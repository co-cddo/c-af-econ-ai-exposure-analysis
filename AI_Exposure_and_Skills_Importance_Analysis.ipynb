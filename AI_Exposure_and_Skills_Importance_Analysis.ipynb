{
  "nbformat": 4,
  "nbformat_minor": 0,
  "metadata": {
    "colab": {
      "provenance": [],
      "collapsed_sections": [
        "nxQvzrB-C7se",
        "NWtNZoybPAZ5",
        "iBqY4QZScWl0",
        "diu2eVpvMXIF",
        "Bf_GQdIeNDhA",
        "bG1ywOBmPpO0",
        "vp86IMMVSUgQ",
        "wdwpNscLD5jr",
        "ulCbh9hKM6zO",
        "cD9SE9U5Mu3c",
        "ei0gG19WZoLH",
        "Y2cn_HBPZ-0E",
        "1hWll1-sXdk-",
        "nYAVJFh0ne4g",
        "9dUFVfKHsFRu",
        "WK7EUB33aoHy",
        "t-O_Z39dr4MM",
        "s_573mIAuc08",
        "zcDME6gOaNTJ"
      ]
    },
    "kernelspec": {
      "name": "python3",
      "display_name": "Python 3"
    },
    "language_info": {
      "name": "python"
    }
  },
  "cells": [
    {
      "cell_type": "markdown",
      "source": [
        "# **Install and Import Packages**\n",
        "\n",
        "\n"
      ],
      "metadata": {
        "id": "nxQvzrB-C7se"
      }
    },
    {
      "cell_type": "code",
      "source": [
        "pip install openai"
      ],
      "metadata": {
        "id": "lTzmgjchQb0v"
      },
      "execution_count": null,
      "outputs": []
    },
    {
      "cell_type": "code",
      "execution_count": null,
      "metadata": {
        "id": "axW1cSh0N8ti"
      },
      "outputs": [],
      "source": [
        "# Import packages\n",
        "import statsmodels.api as sm\n",
        "import numpy as np\n",
        "import pandas as pd\n",
        "import matplotlib.pyplot as plt\n",
        "import seaborn as sns\n",
        "from openai import OpenAI\n",
        "import time\n",
        "import re\n",
        "from tqdm import tqdm\n",
        "from matplotlib.lines import Line2D\n"
      ]
    },
    {
      "cell_type": "markdown",
      "source": [
        "# **Set API Key**\n"
      ],
      "metadata": {
        "id": "fTzaGTmOgLpZ"
      }
    },
    {
      "cell_type": "code",
      "source": [
        "client = OpenAI(\n",
        "    api_key=\"\",\n",
        ")"
      ],
      "metadata": {
        "id": "5qB8pLBWn-Z_"
      },
      "execution_count": null,
      "outputs": []
    },
    {
      "cell_type": "markdown",
      "source": [
        "# **GENERATE AI EXPOSURE SCORES AND ANALYSIS**"
      ],
      "metadata": {
        "id": "uFj9N_kQQI8T"
      }
    },
    {
      "cell_type": "markdown",
      "source": [
        "# **Load in Data for Exposure Score Analysis**\n",
        "\n",
        "---\n",
        "\n"
      ],
      "metadata": {
        "id": "iBqY4QZScWl0"
      }
    },
    {
      "cell_type": "code",
      "source": [
        "# Column names are role, task and grade\n",
        "\n",
        "df = pd.read_csv(\"YOUR_DATA_FILE.csv\")"
      ],
      "metadata": {
        "id": "VKH_pSwknGIZ"
      },
      "execution_count": null,
      "outputs": []
    },
    {
      "cell_type": "markdown",
      "source": [
        "# **Exposure Score Generator**"
      ],
      "metadata": {
        "id": "diu2eVpvMXIF"
      }
    },
    {
      "cell_type": "code",
      "source": [
        "# Define a function to assign exposure score to each task\n",
        "def task_label(task, role):\n",
        "  response = client.chat.completions.create(\n",
        "  model=\"gpt-4-turbo\",\n",
        "  messages=[\n",
        "    {\n",
        "      \"role\": \"system\",\n",
        "      \"content\": \"You are a skills and AI specialist. \" + \"You will provide a score of potential automation with GPT technology for a given task. Follow instructions closely.\"\n",
        "    },\n",
        "    {\n",
        "      \"role\": \"user\",\n",
        "      \"content\": \"Look at this job task: \" + str(task) + \"It is related to the job role: \" + str(role) + \"Provide a score of potential automation of this task with GPT technology, given that the job is located in a high[low] income country: \" + \"The score should range 0-1. Provide a score in one line (Score:), and a justification in next line (Justification:). Do not provide any other commentary, only the score and justification. \" + \"Do not give any ranges just one score for each task.\"\n",
        "    }\n",
        "  ],\n",
        "  temperature=0.01,\n",
        "  max_tokens=500,\n",
        "  top_p=1,\n",
        "  frequency_penalty=0,\n",
        "  presence_penalty=0\n",
        ")\n",
        "  return response.choices[0].message.content"
      ],
      "metadata": {
        "id": "_sz_cyO9R06e"
      },
      "execution_count": null,
      "outputs": []
    },
    {
      "cell_type": "code",
      "source": [
        "# Progress tracker\n",
        "tqdm.pandas()\n",
        "\n",
        "# Apply the function with a progress bar\n",
        "df['output'] = df.progress_apply(lambda row: task_label(row['task'], row['role']), axis=1)"
      ],
      "metadata": {
        "id": "zmme_WEOgVrz",
        "colab": {
          "base_uri": "https://localhost:8080/"
        },
        "outputId": "b7eb271b-2905-4ed0-8a79-0f2a042e4cb5"
      },
      "execution_count": null,
      "outputs": [
        {
          "output_type": "stream",
          "name": "stderr",
          "text": [
            "100%|██████████| 6/6 [00:15<00:00,  2.57s/it]\n"
          ]
        }
      ]
    },
    {
      "cell_type": "code",
      "source": [
        "# Split the results and create new columns for exposure score and justification\n",
        "split_columns = df['output'].str.split('Justification:', n=1, expand=True)\n",
        "df['exposure_score'] = split_columns[0].str.replace('Score: ', '').str.strip()\n",
        "df['justification'] = split_columns[1].str.strip()\n",
        "\n",
        "# Converting exposure score to numeric\n",
        "df['exposure_score'] = pd.to_numeric(df['exposure_score'])\n",
        "\n",
        "# Dropping the output column\n",
        "df.drop(columns=['output'], inplace=True)"
      ],
      "metadata": {
        "id": "pO-BZC72nqKY"
      },
      "execution_count": null,
      "outputs": []
    },
    {
      "cell_type": "markdown",
      "source": [
        "# **Calculate averages for each role**"
      ],
      "metadata": {
        "id": "v_ZNstTecgec"
      }
    },
    {
      "cell_type": "code",
      "source": [
        "# Create a dataframe which stores the mean and standard deviation of exposure score for each role\n",
        "role_df = df.groupby('role')['exposure_score'].agg(['mean', 'std']).reset_index()\n",
        "role_df.columns = ['role', 'mean_exposure_score', 'std_exposure_score']\n",
        "\n",
        "# Round the values to two decimal places\n",
        "role_df['mean_exposure_score'] = role_df['mean_exposure_score'].round(2)\n",
        "role_df['std_exposure_score'] = role_df['std_exposure_score'].round(2)\n",
        "\n",
        "role_df"
      ],
      "metadata": {
        "id": "ATZByGE6hYi7"
      },
      "execution_count": null,
      "outputs": []
    },
    {
      "cell_type": "markdown",
      "source": [
        "# **Distribution of Exposure Scores across roles**"
      ],
      "metadata": {
        "id": "BjKlGN1m8l9X"
      }
    },
    {
      "cell_type": "code",
      "source": [
        "# Create density plot to show distribution of mean exposure score for all roles\n",
        "plt.figure(figsize=(8, 6))\n",
        "sns.kdeplot(role_df['mean_exposure_score'], color='black', linewidth=3)\n",
        "plt.xlabel('Mean Automation Exposure Score', fontweight='bold')\n",
        "plt.ylabel('Density', fontweight='bold')\n",
        "plt.grid(False)  # Disable grid lines\n",
        "plt.xlim(0, 1)  # Setting x-axis limits from 0 to 1\n",
        "plt.xticks(np.arange(0, 1.1, 0.25))  # Setting x-axis ticks with intervals of 0.25\n",
        "plt.title(\"Level of Exposure to AI for CDDO Roles\", fontsize=14, fontweight='bold')\n",
        "\n",
        "# Shading the areas for each exposure category\n",
        "plt.axvspan(0, 0.25, color='white', alpha=1)\n",
        "plt.text(0.125, 0.8, 'Very Low Exposure', horizontalalignment='center', verticalalignment='bottom', fontsize=11, color='black', bbox=dict(facecolor='white', edgecolor='black', boxstyle='round,pad=0.25'))\n",
        "\n",
        "plt.axvspan(0.25, 0.5, color='#B8D4FF', alpha=1)\n",
        "plt.text(0.375, 0.8, 'Low Exposure', horizontalalignment='center', verticalalignment='bottom', fontsize=11, color='black', bbox=dict(facecolor='white', edgecolor='black', boxstyle='round,pad=0.25'))\n",
        "\n",
        "plt.axvspan(0.5, 0.75, color='#8DA9DF', alpha=1)\n",
        "plt.text(0.625, 0.8, 'Medium Exposure', horizontalalignment='center', verticalalignment='bottom', fontsize=11, color='black', bbox=dict(facecolor='white', edgecolor='black', boxstyle='round,pad=0.25'))\n",
        "\n",
        "plt.axvspan(0.75, 1, color='#6381B4', alpha=1)\n",
        "plt.text(0.875, 0.8, 'High Exposure', horizontalalignment='center', verticalalignment='bottom', fontsize=11, color='black', bbox=dict(facecolor='white', edgecolor='black', boxstyle='round,pad=0.25'))\n",
        "\n",
        "# Adding dotted vertical lines at the category boundaries\n",
        "for x in [0.25, 0.5, 0.75]:\n",
        "    plt.axvline(x, color='black', linestyle='dotted', linewidth=1.5)\n",
        "\n",
        "plt.show()"
      ],
      "metadata": {
        "id": "M5ZCpdVTv8YF"
      },
      "execution_count": null,
      "outputs": []
    },
    {
      "cell_type": "markdown",
      "source": [
        "# **Potential for Automation and Augumentation**"
      ],
      "metadata": {
        "id": "LSEFi8Pp8hJS"
      }
    },
    {
      "cell_type": "code",
      "source": [
        "# Define a function to determine automation or augmentation category\n",
        "def determine_category(row):\n",
        "    if row['mean_exposure_score'] < 0.4 and (row['std_exposure_score'] + row['mean_exposure_score']) > 0.5:\n",
        "        return 'Augmentation Potential'\n",
        "    elif row['mean_exposure_score'] > 0.6 and (row['mean_exposure_score'] - row['std_exposure_score']) > 0.5:\n",
        "        return 'Automation Potential'\n",
        "    elif row['mean_exposure_score'] > 0.35 and row['std_exposure_score'] > 0.1:\n",
        "        return 'Augmentation/Automation Potential'\n",
        "    else:\n",
        "        return 'Low Potential'\n",
        "\n",
        "# Apply the function to create a new column\n",
        "role_df['category'] = role_df.apply(determine_category, axis=1)\n",
        "\n",
        "# Define markers and colors based on category\n",
        "markers = role_df['category'].apply(lambda x: 's' if x == 'Augmentation Potential' else ('x' if x == 'Automation Potential' else ('^' if x == 'Augmentation/Automation Potential' else 'o')))\n",
        "colors = role_df['category'].apply(lambda x: 'blue' if x == 'Augmentation Potential' else ('red' if x == 'Automation Potential' else ('green' if x == 'Augmentation/Automation Potential' else 'black')))\n",
        "sizes = role_df['category'].apply(lambda x: 30 if x == 'Augmentation Potential' else (50 if x == 'Automation Potential' else (40 if x == 'Augmentation/Automation Potential' else 20)))\n",
        "\n",
        "# Create the scatter plot\n",
        "plt.figure(figsize=(8, 6))\n",
        "\n",
        "# Plot each category separately to apply different markers\n",
        "categories = role_df['category'].unique()\n",
        "for category in categories:\n",
        "    subset = role_df[role_df['category'] == category]\n",
        "    marker = 's' if category == 'Augmentation Potential' else ('x' if category == 'Automation Potential' else ('^' if category == 'Augmentation/Automation Potential' else 'o'))\n",
        "    color = 'blue' if category == 'Augmentation Potential' else ('red' if category == 'Automation Potential' else ('green' if category == 'Augmentation/Automation Potential' else 'black'))\n",
        "    size = 30 if category == 'Augmentation Potential' else (50 if category == 'Automation Potential' else (40 if category == 'Augmentation/Automation Potential' else 20))\n",
        "    plt.scatter(subset['mean_exposure_score'], subset['std_exposure_score'], c=color, marker=marker, s=size, label=category)\n",
        "\n",
        "# Customize axis labels\n",
        "plt.xlabel('Mean Exposure Score', fontweight='bold')\n",
        "plt.ylabel('Standard Deviation', fontweight='bold')\n",
        "\n",
        "# Add legend with a customized title\n",
        "plt.legend(title='Category Type')\n",
        "\n",
        "# Display the plot\n",
        "plt.show()"
      ],
      "metadata": {
        "id": "-vN9VTngxkij"
      },
      "execution_count": null,
      "outputs": []
    },
    {
      "cell_type": "markdown",
      "source": [
        "# **Exposure score by grade**"
      ],
      "metadata": {
        "id": "4nFWJ2QPgbfN"
      }
    },
    {
      "cell_type": "code",
      "source": [
        "# If grade includes Fast Stream, replace these grades with HEO equivalent\n",
        "df['grade'] = df['grade'].replace('Fast Stream', 'HEO')\n",
        "\n",
        "# Create a dataframe of the mean of exposure score for each grade\n",
        "grade_df = df.groupby('grade')['exposure_score'].mean().reset_index().round({'score': 2})"
      ],
      "metadata": {
        "id": "j9HFZrJmjjCE"
      },
      "execution_count": null,
      "outputs": []
    },
    {
      "cell_type": "code",
      "source": [
        "# Define the specific order for the grades\n",
        "grade_order = ['EO', 'HEO', 'SEO', 'G7', 'G6', 'SCS1']\n",
        "\n",
        "# Convert the grade column to a categorical type with the specified order\n",
        "grade_df['grade'] = pd.Categorical(grade_df['grade'], categories=grade_order, ordered=True)\n",
        "\n",
        "# Sort the DataFrame based on the categorical order\n",
        "grade_df = grade_df.sort_values('grade').reset_index(drop=True)\n",
        "\n",
        "# Create bar chart with bold axis labels\n",
        "plt.figure(figsize=(6, 6))\n",
        "bar_width = 0.5\n",
        "bars = plt.bar(grade_df['grade'], grade_df['exposure_score'], color='#073763', width=bar_width)\n",
        "\n",
        "# Remove grid lines\n",
        "plt.grid(False)\n",
        "\n",
        "# Labels with bold font\n",
        "plt.xlabel('Category', fontweight='bold')\n",
        "plt.ylabel('Average Automation Score', fontweight='bold')\n",
        "\n",
        "# Add data labels with specified styles and shifted up slightly\n",
        "for bar in bars:\n",
        "    yval = bar.get_height()\n",
        "    plt.text(bar.get_x() + bar.get_width()/2, yval + 0.01, round(yval, 2),\n",
        "             ha='center', va='bottom', fontsize=11, color='black',\n",
        "             bbox=dict(facecolor='white', edgecolor='black', boxstyle='round,pad=0.25'))\n",
        "\n",
        "# Adjust y-axis limits to provide space for the labels\n",
        "plt.ylim(0, max(grade_df['exposure_score']) + 0.1)\n",
        "\n",
        "# Display the chart\n",
        "plt.show()"
      ],
      "metadata": {
        "id": "010NijbGjBpP"
      },
      "execution_count": null,
      "outputs": []
    },
    {
      "cell_type": "markdown",
      "source": [
        "# **Combine task data for each role**"
      ],
      "metadata": {
        "id": "-8hsXDeV6VIG"
      }
    },
    {
      "cell_type": "code",
      "source": [
        "# Combine rows with the same role\n",
        "grouped_df = df.groupby('role').agg({\n",
        "    'task': ' '.join,\n",
        "    'grade': 'first',\n",
        "    'exposure_score': 'mean'\n",
        "}).reset_index()\n",
        "\n",
        "# Round the exposure_score to 2 decimal places\n",
        "grouped_df['exposure_score'] = grouped_df['exposure_score'].round(2)"
      ],
      "metadata": {
        "id": "TD32uCACmkC_"
      },
      "execution_count": null,
      "outputs": []
    },
    {
      "cell_type": "markdown",
      "source": [
        "# **SKILLS IMPORTANCE ANALYSIS**"
      ],
      "metadata": {
        "id": "Vw4yHamOirvt"
      }
    },
    {
      "cell_type": "markdown",
      "source": [
        "# **Load in skills data**"
      ],
      "metadata": {
        "id": "8PZFlPuf64Sn"
      }
    },
    {
      "cell_type": "code",
      "source": [
        "# Column names are role and skills\n",
        "\n",
        "skills_df = pd.read_csv(\"YOUR_DATA_FILE.csv\")"
      ],
      "metadata": {
        "id": "ZhpNdqr9632d"
      },
      "execution_count": null,
      "outputs": []
    },
    {
      "cell_type": "code",
      "source": [
        "# Merge exposure score analysis with skills data\n",
        "grouped_df = pd.merge(grouped_df, skills_df, on='role', how='left')"
      ],
      "metadata": {
        "id": "51WTlxEXo4s8"
      },
      "execution_count": null,
      "outputs": []
    },
    {
      "cell_type": "markdown",
      "source": [
        "# **Skills Importance Score Generator**"
      ],
      "metadata": {
        "id": "Bf_GQdIeNDhA"
      }
    },
    {
      "cell_type": "code",
      "source": [
        "# Define function to assess the importance of each skill using LLM\n",
        "def get_importance_score(task, role, skills):\n",
        "    response = client.chat.completions.create(\n",
        "        model=\"gpt-4-turbo\",\n",
        "        messages=[\n",
        "            {\n",
        "                \"role\": \"system\",\n",
        "                \"content\": (\n",
        "                    \"You are a skills and AI specialist. You will provide a score of importance of different skills. Follow instructions closely.\"\n",
        "                ),\n",
        "            },\n",
        "            {\n",
        "                \"role\": \"user\",\n",
        "                \"content\": (\n",
        "                    \"Look at this set of job tasks: \" + str(task) +\n",
        "                    \" Also look at this at list of tasks required to complete the job: \" + str(skills) +\n",
        "                    \" These are related to the job role: \" + str(role) +\n",
        "                    \" Use this information to assess the importance of each of the thirty-five skills listed below. \"\n",
        "                    \"Assign a score between 0 and 1 to represent the importance of each skill, using the following scale:\\n\"\n",
        "                    \"0.0: Completely Unimportant The skill is entirely irrelevant to the job and not needed at all.\\n\"\n",
        "                    \"0.1: Negligible Importance The skill is very rarely used or needed in the job. It is almost never relevant.\\n\"\n",
        "                    \"0.2: Low Importance The skill is occasionally required but is not a significant part of the job. It is useful but not critical.\\n\"\n",
        "                    \"0.3: Somewhat Important The skill is needed from time to time. It is somewhat relevant to the job but not a major component.\\n\"\n",
        "                    \"0.4: Moderately Important The skill is regularly used and is a moderate part of the job. It contributes to the job's effectiveness.\\n\"\n",
        "                    \"0.5: Important The skill is important and frequently used. It plays a significant role in performing the job effectively.\\n\"\n",
        "                    \"0.6: Quite Important The skill is very important and used often. It is integral to many aspects of the job.\\n\"\n",
        "                    \"0.7: Very Important The skill is crucial and used regularly. It is essential for successful job performance.\\n\"\n",
        "                    \"0.8: Highly Important The skill is highly important and almost indispensable. It is used extensively and critical to job success.\\n\"\n",
        "                    \"0.9: Extremely Important The skill is extremely important and nearly always required. It is vital for almost all job functions.\\n\"\n",
        "                    \"1.0: Essential The skill is absolutely essential to the job. It is required for all core functions and without it, the job cannot be performed effectively.\\n\\n\"\n",
        "                    \"Each skill has a brief description provided. Return only the name of each skill and the assigned score for each skill. Ensure you score all thirty-five skills. Return nothing else.\\n\\n\"\n",
        "                    \"Instructing - Teaching others how to do something.\\n\"\n",
        "                    \"Service orientation - Actively looking for ways to help people.\\n\"\n",
        "                    \"Monitoring - Assessing performance of yourself, others, or organizations to improve or take corrective action.\\n\"\n",
        "                    \"Social perceptiveness - Being aware of others' reactions and understanding why they react as they do.\\n\"\n",
        "                    \"Coordination - Organizing and synchronizing activities and efforts to achieve a common goal efficiently.\\n\"\n",
        "                    \"Negotiation - Bringing others together and trying to reconcile differences.\\n\"\n",
        "                    \"Persuasion - Convincing others to change their minds or behavior.\\n\"\n",
        "                    \"Critical thinking - Using logic and reasoning to identify strengths and weaknesses of alternative solutions or approaches.\\n\"\n",
        "                    \"Writing - Communicating effectively in writing for the audience's needs.\\n\"\n",
        "                    \"Speaking - Conveying information effectively through speech.\\n\"\n",
        "                    \"Reading comprehension - Understanding written sentences and paragraphs in work-related documents.\\n\"\n",
        "                    \"Active listening - Fully focusing on what others are saying, understanding points being made, asking questions appropriately, and not interrupting.\\n\"\n",
        "                    \"Active learning - Grasping the implications of new information for current and future problem-solving and decision-making.\\n\"\n",
        "                    \"Learning strategies - Selecting and using training/instructional methods appropriate for the situation when learning or teaching.\\n\"\n",
        "                    \"Judgment and Decision making - Evaluating the relative costs and benefits of potential actions to choose the most appropriate one.\\n\"\n",
        "                    \"Science - Using scientific rules and methods to solve problems.\\n\"\n",
        "                    \"Mathematics - Using mathematics to solve problems.\\n\"\n",
        "                    \"Programming - Writing computer programs for various purposes.\\n\"\n",
        "                    \"Complex problem solving - Identifying complex problems and reviewing related information to develop and evaluate options and implement solutions.\\n\"\n",
        "                    \"Systems analysis - Determining how a system should work and how changes in conditions, operations, and the environment will affect outcomes.\\n\"\n",
        "                    \"Systems evaluation - Identifying measures or indicators of system performance and actions needed to improve or correct performance.\\n\"\n",
        "                    \"Operations analysis - Analyzing needs and product requirements to create a design.\\n\"\n",
        "                    \"Technology design - Generating or adapting equipment and technology to meet user needs.\\n\"\n",
        "                    \"Management of personnel resources - Motivating, developing, and directing people as they work, identifying the best people for the job.\\n\"\n",
        "                    \"Management of financial resources - Determining how money will be spent to get the work done, and accounting for these expenditures.\\n\"\n",
        "                    \"Management of material resources - Obtaining and seeing to the appropriate use of equipment, facilities, and materials needed to do certain work.\\n\"\n",
        "                    \"Time management - Managing one's own time and the time of others.\\n\"\n",
        "                    \"Troubleshooting - Determining causes of operating errors and deciding what to do about them.\\n\"\n",
        "                    \"Equipment selection - Determining the kind of tools and equipment needed to do a job.\\n\"\n",
        "                    \"Equipment maintenance - Performing routine maintenance on equipment and determining when and what kind of maintenance is needed.\\n\"\n",
        "                    \"Repairing - Fixing machines or systems using the needed tools.\\n\"\n",
        "                    \"Installation - Installing equipment, machines, wiring, or programs to meet specifications.\\n\"\n",
        "                    \"Operation monitoring - Watching gauges, dials, or other indicators to ensure a machine is working properly.\\n\"\n",
        "                    \"Quality control analysis - Conducting tests and inspections of products, services, or processes to evaluate quality or performance.\\n\"\n",
        "                    \"Operation and control - Controlling operations of equipment or systems.\"\n",
        "                ),\n",
        "            },\n",
        "        ],\n",
        "        temperature=0.01,\n",
        "        max_tokens=500,\n",
        "        top_p=1,\n",
        "        frequency_penalty=0,\n",
        "        presence_penalty=0,\n",
        "    )\n",
        "\n",
        "    return response.choices[0].message.content"
      ],
      "metadata": {
        "id": "LNDFJYtqNNID"
      },
      "execution_count": null,
      "outputs": []
    },
    {
      "cell_type": "code",
      "source": [
        "# Define function to apply the LLM analysis to each skill\n",
        "def importance_score(row):\n",
        "    raw_response = get_importance_score(row['task'], row['role'], row['skills'])\n",
        "    scores = {}\n",
        "    for line in raw_response.split('\\n'):\n",
        "        if line:\n",
        "            skill, score = line.split(' - ')\n",
        "            skill = skill.strip().lower().replace(' ', '_').replace('-', '_')\n",
        "            scores[skill] = float(score.strip())\n",
        "    return pd.Series(scores)"
      ],
      "metadata": {
        "id": "fXqa6UXWPbl0"
      },
      "execution_count": null,
      "outputs": []
    },
    {
      "cell_type": "code",
      "source": [
        "# Define the skills list\n",
        "skills_list = [\n",
        "    \"Instructing\", \"Service orientation\", \"Monitoring\", \"Social perceptiveness\", \"Coordination\",\n",
        "    \"Negotiation\", \"Persuasion\", \"Critical thinking\", \"Writing\", \"Speaking\", \"Reading comprehension\",\n",
        "    \"Active listening\", \"Active learning\", \"Learning strategies\", \"Judgment and Decision making\",\n",
        "    \"Science\", \"Mathematics\", \"Programming\", \"Complex problem solving\", \"Systems analysis\",\n",
        "    \"Systems evaluation\", \"Operations analysis\", \"Technology design\", \"Management of personnel resources\",\n",
        "    \"Management of financial resources\", \"Management of material resources\", \"Time management\",\n",
        "    \"Troubleshooting\", \"Equipment selection\", \"Equipment maintenance\", \"Repairing\", \"Installation\",\n",
        "    \"Operation monitoring\", \"Quality control analysis\", \"Operation and control\"\n",
        "]\n",
        "\n",
        "# Enable progress_apply\n",
        "tqdm.pandas()\n",
        "\n",
        "# Apply the function and create new columns for each skill\n",
        "importance_scores_df = grouped_df.progress_apply(importance_score, axis=1)\n",
        "\n",
        "# Join the scores with the original DataFrame\n",
        "results_df = grouped_df.join(importance_scores_df)"
      ],
      "metadata": {
        "colab": {
          "base_uri": "https://localhost:8080/"
        },
        "id": "7eFAuBUx_kqY",
        "outputId": "82ba46c6-cfeb-47c7-d60a-d4a15e4d3613"
      },
      "execution_count": null,
      "outputs": [
        {
          "output_type": "stream",
          "name": "stderr",
          "text": [
            "100%|██████████| 2/2 [00:39<00:00, 19.54s/it]\n"
          ]
        }
      ]
    },
    {
      "cell_type": "markdown",
      "source": [
        "# **Calculate Average Importance Score per Job Role**"
      ],
      "metadata": {
        "id": "wdwpNscLD5jr"
      }
    },
    {
      "cell_type": "code",
      "source": [
        "skills_columns = [\n",
        "    'instructing', 'service_orientation', 'monitoring', 'social_perceptiveness', 'coordination',\n",
        "    'negotiation', 'persuasion', 'critical_thinking', 'writing', 'speaking', 'reading_comprehension',\n",
        "    'active_listening', 'active_learning', 'learning_strategies', 'judgment_and_decision_making',\n",
        "    'science', 'mathematics', 'programming', 'complex_problem_solving', 'systems_analysis',\n",
        "    'systems_evaluation', 'operations_analysis', 'technology_design', 'management_of_personnel_resources',\n",
        "    'management_of_financial_resources', 'management_of_material_resources', 'time_management',\n",
        "    'troubleshooting', 'equipment_selection', 'equipment_maintenance', 'repairing', 'installation',\n",
        "    'operation_monitoring', 'quality_control_analysis', 'operation_and_control'\n",
        "]\n",
        "\n",
        "# Categorise skills into different skill groups\n",
        "skill_categories = {\n",
        "    'social_skills': [\n",
        "        'instructing', 'service_orientation', 'monitoring', 'social_perceptiveness', 'coordination',\n",
        "        'negotiation', 'persuasion'\n",
        "    ],\n",
        "    'fundamental_skills': [\n",
        "        'critical_thinking', 'writing', 'speaking', 'reading_comprehension',\n",
        "        'active_listening', 'active_learning', 'learning_strategies', 'judgment_and_decision_making'\n",
        "    ],\n",
        "    'analytical_skills': [\n",
        "        'science', 'mathematics', 'programming', 'complex_problem_solving', 'systems_analysis',\n",
        "        'systems_evaluation', 'operations_analysis', 'technology_design'\n",
        "    ],\n",
        "    'managerial_skills': [\n",
        "        'management_of_personnel_resources', 'management_of_financial_resources',\n",
        "        'management_of_material_resources', 'time_management'\n",
        "    ],\n",
        "    'mechanical_skills': [\n",
        "        'troubleshooting', 'equipment_selection', 'equipment_maintenance', 'repairing',\n",
        "        'installation', 'operation_monitoring', 'quality_control_analysis', 'operation_and_control'\n",
        "    ]\n",
        "}\n",
        "\n",
        "# Convert the skill columns to numeric values\n",
        "for col in skills_columns:\n",
        "    results_df[col] = pd.to_numeric(results_df[col], errors='coerce')"
      ],
      "metadata": {
        "id": "hJHT_ccVBIxp"
      },
      "execution_count": null,
      "outputs": []
    },
    {
      "cell_type": "code",
      "source": [
        "# Calculate the average importance score across all 35 skills for each role\n",
        "results_df['average_importance_score'] = results_df[skills_columns].mean(axis=1)\n",
        "\n",
        "# Function to calculate the average score for each skill category\n",
        "def calculate_average_skills(results_df, skill_list):\n",
        "    return results_df[skill_list].mean(axis=1)\n",
        "\n",
        "# Iterate over the skill categories and calculate the average scores\n",
        "for category, skills in skill_categories.items():\n",
        "    results_df[category + '_average'] = calculate_average_skills(results_df, skills)"
      ],
      "metadata": {
        "id": "KL4vowWngX8Z"
      },
      "execution_count": null,
      "outputs": []
    },
    {
      "cell_type": "markdown",
      "source": [
        "\n",
        "# **Regressions for all 5 skill categories and grade**\n"
      ],
      "metadata": {
        "id": "cD9SE9U5Mu3c"
      }
    },
    {
      "cell_type": "code",
      "source": [
        "# Create a numerical scale to order dataframes\n",
        "results_df['grade_scale'] = results_df['grade'].map({'EO':1, 'HEO': 2, 'SEO': 3, 'G7': 4, 'G6': 5, 'SCS1': 6})\n",
        "\n",
        "# Select the columns for the independent variables and ensure they are numeric\n",
        "X = results_df[['analytical_skills_average', 'managerial_skills_average', 'mechanical_skills_average', 'social_skills_average', 'fundamental_skills_average', 'grade_scale']].astype(float)\n",
        "y = results_df['exposure_score'].astype(float)\n",
        "\n",
        "# Ensure X and y are numeric arrays\n",
        "X = sm.add_constant(X.astype(float))\n",
        "\n",
        "# Fit the OLS regression model\n",
        "model = sm.OLS(y, X).fit()\n",
        "\n",
        "# Store the regression results\n",
        "regression_results = model\n",
        "\n",
        "# Print the regression summary\n",
        "print(\"\\nRegression Summary for Combined Skill Categories:\")\n",
        "print(model.summary())"
      ],
      "metadata": {
        "id": "BNCZ6GgrNBbb"
      },
      "execution_count": null,
      "outputs": []
    },
    {
      "cell_type": "markdown",
      "source": [
        "\n",
        "# **Graph showing statistically significant coefficients**\n"
      ],
      "metadata": {
        "id": "ONKhzFPB6JcB"
      }
    },
    {
      "cell_type": "code",
      "source": [
        "# Extracting the coefficients and p-values\n",
        "coefficients = regression_results.params\n",
        "p_values = regression_results.pvalues\n",
        "\n",
        "# Set a significance level\n",
        "significance_level = 0.05\n",
        "\n",
        "# Filter the significant variables including the constant if significant\n",
        "significant_vars = coefficients[p_values < significance_level]\n",
        "\n",
        "# Create a dictionary to map original column names to desired display names\n",
        "name_mapping = {\n",
        "    'const': 'Constant',\n",
        "    'analytical_skills_average': 'Analytical Skills',\n",
        "    'managerial_skills_average': 'Managerial Skills',\n",
        "    'mechanical_skills_average': 'Mechanical Skills',\n",
        "    'social_skills_average': 'Social Skills',\n",
        "    'fundamental_skills_average': 'Fundamental Skills',\n",
        "    'grade_scale': 'Grade',\n",
        "    'ddat_scale': 'DDaT'\n",
        "}\n",
        "\n",
        "# Rename the indices of the significant variables using the dictionary\n",
        "significant_vars.index = [name_mapping.get(name, name) for name in significant_vars.index]\n",
        "\n",
        "# Rename the indices of the significant variables using the dictionary\n",
        "significant_vars.index = [name_mapping.get(name, name) for name in significant_vars.index]\n",
        "\n",
        "# Create a bar chart for significant coefficients including the constant if significant\n",
        "plt.figure(figsize=(12, 8))\n",
        "bars = plt.bar(significant_vars.index, significant_vars.values, color='#073763')\n",
        "plt.ylabel('Coefficient Value', fontsize=16)\n",
        "plt.xticks(rotation=0, fontsize=16)  # Ensure x-axis labels are horizontal\n",
        "plt.yticks(fontsize=16)  # Increase y-axis tick labels font size\n",
        "\n",
        "# Add horizontal dotted line at y=0\n",
        "plt.axhline(0, color='gray', linestyle='--')\n",
        "\n",
        "# Extend y-axis limits\n",
        "y_min = significant_vars.min() - 0.1\n",
        "y_max = significant_vars.max() + 0.1\n",
        "plt.ylim(y_min, y_max)\n",
        "\n",
        "# Add data labels\n",
        "for bar in bars:\n",
        "    yval = bar.get_height()\n",
        "    # Adjust label position based on the sign of yval\n",
        "    if yval > 0:\n",
        "        label_position = yval + 0.02\n",
        "        va = 'bottom'\n",
        "    else:\n",
        "        label_position = yval - 0.02\n",
        "        va = 'top'\n",
        "    plt.annotate(f'{yval:.2f}',\n",
        "                 xy=(bar.get_x() + bar.get_width() / 2, label_position),\n",
        "                 xytext=(0, 0),  # No offset needed\n",
        "                 textcoords=\"offset points\",\n",
        "                 ha='center', va=va, color='black', fontweight='bold', fontsize=16)\n",
        "\n",
        "plt.tight_layout()\n",
        "plt.show()"
      ],
      "metadata": {
        "id": "DIWnojojxajc"
      },
      "execution_count": null,
      "outputs": []
    },
    {
      "cell_type": "markdown",
      "source": [
        "# **Average Importance Score across Job Grade**"
      ],
      "metadata": {
        "id": "KUoua8CB7p8G"
      }
    },
    {
      "cell_type": "code",
      "source": [
        "# Calculate mean of skill importance for each grade, and order grades by seniority\n",
        "avg_grade_df = results_df.groupby('grade').apply(\n",
        "    lambda x: pd.Series({\n",
        "        'fundamental_skills': x[skill_categories['fundamental_skills']].mean().mean(),\n",
        "        'analytical_skills': x[skill_categories['analytical_skills']].mean().mean(),\n",
        "        'social_skills': x[skill_categories['social_skills']].mean().mean(),\n",
        "        'managerial_skills': x[skill_categories['managerial_skills']].mean().mean(),\n",
        "        'mechanical_skills': x[skill_categories['mechanical_skills']].mean().mean()\n",
        "    })\n",
        ").reset_index()\n",
        "\n",
        "avg_grade_df['grade_scale'] = avg_grade_df['grade'].map({'EO':1, 'HEO': 2, 'SEO': 3, 'G7': 4, 'G6': 5, 'SCS1': 6})\n",
        "\n",
        "avg_grade_df = avg_grade_df.sort_values('grade_scale')"
      ],
      "metadata": {
        "id": "Y1892YjrOlSO"
      },
      "execution_count": null,
      "outputs": []
    },
    {
      "cell_type": "code",
      "source": [
        "# Plotting the data\n",
        "plt.figure(figsize=(12, 8))\n",
        "line1, = plt.plot(avg_grade_df['grade'], avg_grade_df['fundamental_skills'], marker='o', linestyle='-', label='Fundamental Skills Average', color='#073763ff')\n",
        "line2, = plt.plot(avg_grade_df['grade'], avg_grade_df['analytical_skills'], marker='o', linestyle='--', label='Analytical Skills Average', color='#073763ff')\n",
        "line3, = plt.plot(avg_grade_df['grade'], avg_grade_df['social_skills'], marker='o', linestyle=':', label='Social Skills Average', color='#073763ff')\n",
        "line4, = plt.plot(avg_grade_df['grade'], avg_grade_df['managerial_skills'], marker='o', linestyle='-.', label='Managerial Skills Average', color='#073763ff')\n",
        "line5, = plt.plot(avg_grade_df['grade'], avg_grade_df['mechanical_skills'], marker='o', linestyle=(0, (3, 5, 1, 5)), label='Mechanical Skills Average', color='#073763ff')\n",
        "\n",
        "# Customizing the plot\n",
        "plt.xlabel('Grade', fontsize=16)\n",
        "plt.ylabel('Average Importance Score', fontsize=16)\n",
        "plt.xticks(rotation=0, fontsize=16)\n",
        "plt.yticks(fontsize=16)\n",
        "plt.ylim(0, 1)  # Set y-axis limits from 0 to 1\n",
        "plt.grid(False)  # Disable grid\n",
        "\n",
        "# Create custom legend handles without markers\n",
        "custom_lines = [Line2D([0], [0], color='#073763ff', linestyle='-'),\n",
        "                Line2D([0], [0], color='#073763ff', linestyle='--'),\n",
        "                Line2D([0], [0], color='#073763ff', linestyle=':'),\n",
        "                Line2D([0], [0], color='#073763ff', linestyle='-.'),\n",
        "                Line2D([0], [0], color='#073763ff', linestyle=(0, (3, 5, 1, 5)))]\n",
        "\n",
        "plt.legend(custom_lines, ['Fundamental Skills Average', 'Analytical Skills Average', 'Social Skills Averagae', 'Managerial Skills Average', 'Mechanical Skills Average'], title='Skills')\n",
        "\n",
        "plt.tight_layout()\n",
        "plt.show()"
      ],
      "metadata": {
        "id": "xFq8FD2_7cGF"
      },
      "execution_count": null,
      "outputs": []
    }
  ]
}